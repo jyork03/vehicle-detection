{
 "cells": [
  {
   "cell_type": "markdown",
   "metadata": {
    "collapsed": true
   },
   "source": [
    "# Vehicle Detection"
   ]
  },
  {
   "cell_type": "markdown",
   "metadata": {},
   "source": [
    "The goals / steps of this project are the following:\n",
    "\n",
    "* Perform a Histogram of Oriented Gradients (HOG) feature extraction on a labeled training set of images and train a classifier Linear SVM classifier\n",
    "* Optionally, you can also apply a color transform and append binned color features, as well as histograms of color, to your HOG feature vector. \n",
    "* Note: for those first two steps don't forget to normalize your features and randomize a selection for training and testing.\n",
    "* Implement a sliding-window technique and use your trained classifier to search for vehicles in images.\n",
    "* Run your pipeline on a video stream (start with the test_video.mp4 and later implement on full project_video.mp4) and create a heat map of recurring detections frame by frame to reject outliers and follow detected vehicles.\n",
    "* Estimate a bounding box for vehicles detected.\n"
   ]
  },
  {
   "cell_type": "code",
   "execution_count": 1,
   "metadata": {},
   "outputs": [],
   "source": [
    "from vehicle_detection import Pipeline\n",
    "import glob\n",
    "import cv2\n",
    "import matplotlib.pyplot as plt\n",
    "import pickle"
   ]
  },
  {
   "cell_type": "code",
   "execution_count": 2,
   "metadata": {},
   "outputs": [],
   "source": [
    "# Initiate the vehicle detection pipeline\n",
    "pipeline = Pipeline()"
   ]
  },
  {
   "cell_type": "code",
   "execution_count": 3,
   "metadata": {},
   "outputs": [],
   "source": [
    "# Loat the training data, combine and normalize the features and fit the model\n",
    "try:\n",
    "    svc_pickle = pickle.load(open(\"svc_pickle.p\", \"rb\"))\n",
    "    pipeline.svc = svc_pickle[\"svc\"]\n",
    "    pipeline.X_scaler = svc_pickle[\"X_scaler\"]\n",
    "except (OSError, IOError) as e:\n",
    "    pipeline.load_training_data()\n",
    "    pipeline.combine_normalize_features()\n",
    "    pipeline.fit_model()\n",
    "\n",
    "    dump_p = {\"svc\": pipeline.svc, \"X_scaler\": pipeline.X_scaler}\n",
    "    pickle.dump(dump_p, open(\"svc_pickle.p\", \"wb\"))"
   ]
  },
  {
   "cell_type": "code",
   "execution_count": 4,
   "metadata": {},
   "outputs": [],
   "source": [
    "# Glob the test images directory\n",
    "test_images = glob.glob('test_images/*.jpg')"
   ]
  },
  {
   "cell_type": "code",
   "execution_count": 5,
   "metadata": {},
   "outputs": [],
   "source": [
    "# helper function for viewing images in pyplot columns\n",
    "def side_by_side(images, labels=(\"\", \"\", \"\"), cmap='viridis', cols=3):\n",
    "    f, axes = plt.subplots(1, cols, figsize=(20,10))\n",
    "    cmapv = cmap\n",
    "    for idx in range(cols):\n",
    "\n",
    "        if isinstance(cmap, str) is False:\n",
    "            cmapv = cmap[idx]\n",
    "\n",
    "        axes[idx].imshow(images[idx], cmap=cmapv)\n",
    "        axes[idx].set_title(labels[idx], fontsize=30)"
   ]
  },
  {
   "cell_type": "code",
   "execution_count": null,
   "metadata": {},
   "outputs": [
    {
     "name": "stdout",
     "output_type": "stream",
     "text": [
      "ctrans_tosearch.shape (100, 1280, 3)\n",
      "ctrans_tosearch.shape (275, 1280, 3)\n",
      "ctrans_tosearch.shape (275, 1280, 3)\n",
      "0.94 Seconds to find cars...\n",
      "number of boxes 2\n",
      "number of boxes 2\n",
      "number of boxes 2\n",
      "0.0 Seconds to apply heatmaps...\n",
      "0.01 Seconds to draw final boxes...\n",
      "ctrans_tosearch.shape (100, 1280, 3)\n",
      "ctrans_tosearch.shape (275, 1280, 3)\n",
      "ctrans_tosearch.shape (275, 1280, 3)\n",
      "0.89 Seconds to find cars...\n",
      "number of boxes 9\n",
      "number of boxes 9\n",
      "number of boxes 9\n",
      "0.0 Seconds to apply heatmaps...\n",
      "0.01 Seconds to draw final boxes...\n",
      "ctrans_tosearch.shape (100, 1280, 3)\n",
      "ctrans_tosearch.shape (275, 1280, 3)\n",
      "ctrans_tosearch.shape (275, 1280, 3)\n",
      "0.91 Seconds to find cars...\n",
      "number of boxes 7\n",
      "number of boxes 10\n",
      "number of boxes 9\n",
      "0.0 Seconds to apply heatmaps...\n",
      "0.01 Seconds to draw final boxes...\n",
      "ctrans_tosearch.shape (100, 1280, 3)\n",
      "ctrans_tosearch.shape (275, 1280, 3)\n",
      "ctrans_tosearch.shape (275, 1280, 3)\n",
      "0.89 Seconds to find cars...\n",
      "number of boxes 0\n",
      "number of boxes 0\n",
      "number of boxes 0\n",
      "0.0 Seconds to apply heatmaps...\n",
      "0.0 Seconds to draw final boxes...\n",
      "ctrans_tosearch.shape (100, 1280, 3)\n",
      "ctrans_tosearch.shape (275, 1280, 3)\n",
      "ctrans_tosearch.shape (275, 1280, 3)\n",
      "0.89 Seconds to find cars...\n",
      "number of boxes 9\n",
      "number of boxes 8\n",
      "number of boxes 6\n",
      "0.0 Seconds to apply heatmaps...\n",
      "0.01 Seconds to draw final boxes...\n",
      "ctrans_tosearch.shape (100, 1280, 3)\n",
      "ctrans_tosearch.shape (275, 1280, 3)\n",
      "ctrans_tosearch.shape (275, 1280, 3)\n",
      "0.89 Seconds to find cars...\n",
      "number of boxes 8\n",
      "number of boxes 10\n",
      "number of boxes 8\n",
      "0.0 Seconds to apply heatmaps...\n",
      "0.01 Seconds to draw final boxes...\n"
     ]
    }
   ],
   "source": [
    "images = []\n",
    "heatmaps = []\n",
    "\n",
    "for test_img_path in test_images:\n",
    "    test_img = cv2.imread(test_img_path)\n",
    "\n",
    "    draw_img, heatmap = pipeline.run(test_img, clear_boxes=True, thresh=1, calc=True)\n",
    "    \n",
    "    images.append(cv2.cvtColor(draw_img, cv2.COLOR_BGR2RGB))\n",
    "    heatmaps.append(heatmap)"
   ]
  },
  {
   "cell_type": "code",
   "execution_count": null,
   "metadata": {},
   "outputs": [
    {
     "data": {
      "image/png": "[encoded data removed]",
      "text/plain": [
       "<matplotlib.figure.Figure at 0x7f1da56bc6a0>"
      ]
     },
     "metadata": {},
     "output_type": "display_data"
    },
    {
     "name": "stderr",
     "output_type": "stream",
     "text": [
      "/home/josh/.conda/envs/tfgpu/lib/python3.6/site-packages/skimage/feature/_hog.py:119: skimage_deprecation: Default value of `block_norm`==`L1` is deprecated and will be changed to `L2-Hys` in v0.15\n",
      "  'be changed to `L2-Hys` in v0.15', skimage_deprecation)\n"
     ]
    }
   ],
   "source": [
    "img = cv2.imread(test_images[0])\n",
    "\n",
    "ctrans_img = cv2.cvtColor(img, cv2.COLOR_BGR2YCrCb)\n",
    "\n",
    "pipeline.color_hist(ctrans_img, plot=True)\n",
    "\n",
    "features1, hog_image1 = pipeline.visualize_hog_features(ctrans_img[:, :, 0])\n",
    "features2, hog_image2 = pipeline.visualize_hog_features(ctrans_img[:, :, 1])\n",
    "features3, hog_image3 = pipeline.visualize_hog_features(ctrans_img[:, :, 2])\n",
    "\n",
    "side_by_side((ctrans_img[:, :, 0], ctrans_img[:, :, 1], ctrans_img[:, :, 2]), labels=(\"Channel 0\",\"Channel 1\",\"Channel 2\"), cmap=\"gray\")\n",
    "side_by_side((hog_image1, hog_image2, hog_image3), labels=(\"Channel 0\",\"Channel 1\",\"Channel 2\"), cmap=\"gray\")"
   ]
  },
  {
   "cell_type": "code",
   "execution_count": null,
   "metadata": {},
   "outputs": [],
   "source": [
    "sliding_windows = []\n",
    "rgb_img = cv2.cvtColor(img, cv2.COLOR_BGR2RGB)\n",
    "for params in pipeline.find_params:\n",
    "    sliding_windows.append(pipeline.visualize_sliding_windows(rgb_img, scale=params[0], ystart=params[1][0], ystop=params[1][1], padding=0))\n",
    "\n",
    "# Window size 64 px\n",
    "side_by_side(sliding_windows, labels=(\"Scale: 1\",\"Scale: 1.25\",\"Scale: 1.5\"))"
   ]
  },
  {
   "cell_type": "code",
   "execution_count": null,
   "metadata": {},
   "outputs": [],
   "source": [
    "draw_img, heatmap = pipeline.run(img, clear_boxes=True, thresh=1, calc=True)\n",
    "draw_img = cv2.cvtColor(draw_img, cv2.COLOR_BGR2RGB)"
   ]
  },
  {
   "cell_type": "code",
   "execution_count": null,
   "metadata": {},
   "outputs": [],
   "source": [
    "img_with_boxes = pipeline.draw_boxes(img)\n",
    "\n",
    "img_with_boxes = cv2.cvtColor(img_with_boxes, cv2.COLOR_BGR2RGB)\n",
    "\n",
    "side_by_side((img_with_boxes, heatmap, draw_img), labels=(\"Bounding Boxes\",\"Heatmap\",\"Labels\"), cmap=(\"viridis\", \"hot\", \"viridis\"))"
   ]
  },
  {
   "cell_type": "code",
   "execution_count": null,
   "metadata": {},
   "outputs": [],
   "source": [
    "side_by_side(images[0:3])\n",
    "side_by_side(heatmaps[0:3], cmap=\"hot\")"
   ]
  },
  {
   "cell_type": "code",
   "execution_count": null,
   "metadata": {},
   "outputs": [],
   "source": []
  }
 ],
 "metadata": {
  "kernelspec": {
   "display_name": "Python 3",
   "language": "python",
   "name": "python3"
  },
  "language_info": {
   "codemirror_mode": {
    "name": "ipython",
    "version": 3
   },
   "file_extension": ".py",
   "mimetype": "text/x-python",
   "name": "python",
   "nbconvert_exporter": "python",
   "pygments_lexer": "ipython3",
   "version": "3.6.2"
  }
 },
 "nbformat": 4,
 "nbformat_minor": 1
}
